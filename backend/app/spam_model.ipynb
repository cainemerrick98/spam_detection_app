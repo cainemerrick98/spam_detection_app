{
 "cells": [
  {
   "cell_type": "markdown",
   "metadata": {},
   "source": [
    "# Building a Spam classifier\n",
    "\n",
    "To build this classifier we will use the m Apache SpamAssassin’s public datasets: https://spamassassin.apache.org/old/publiccorpus/\n"
   ]
  },
  {
   "cell_type": "markdown",
   "metadata": {},
   "source": [
    "## 1. Acessing the data\n",
    "\n",
    "The data is available in tar files via the web. Each tar file contain many text files with each text file representing an email. We will download the tar files using the urllib and save them into the datasets folder."
   ]
  },
  {
   "cell_type": "code",
   "execution_count": 3,
   "metadata": {},
   "outputs": [],
   "source": [
    "import os\n",
    "import tarfile\n",
    "import urllib.request\n",
    "\n",
    "DOWNLOAD_ROOT = \"http://spamassassin.apache.org/old/publiccorpus/\"\n",
    "HAM_URL = DOWNLOAD_ROOT + \"20030228_easy_ham.tar.bz2\"\n",
    "SPAM_URL = DOWNLOAD_ROOT + \"20030228_spam.tar.bz2\"\n",
    "SPAM_PATH = os.path.join(\"datasets\", \"spam\")\n",
    "\n",
    "def fetch_spam_data(ham_url=HAM_URL, spam_url=SPAM_URL, spam_path=SPAM_PATH):\n",
    "    if not os.path.isdir(SPAM_PATH):\n",
    "        os.makedirs(SPAM_PATH)\n",
    "    for filename, url in ((\"ham.tar.bz2\", ham_url), (\"spam.tar.bz2\", spam_url)):\n",
    "        path = os.path.join(spam_path, filename)\n",
    "        if not os.path.isfile(path):\n",
    "            urllib.request.urlretrieve(url, path)\n",
    "        tar_bz2_file = tarfile.open(path)\n",
    "        tar_bz2_file.extractall(path=spam_path)\n",
    "        tar_bz2_file.close()\n"
   ]
  },
  {
   "cell_type": "code",
   "execution_count": 4,
   "metadata": {},
   "outputs": [],
   "source": [
    "fetch_spam_data()"
   ]
  },
  {
   "cell_type": "code",
   "execution_count": 5,
   "metadata": {},
   "outputs": [],
   "source": [
    "HAM_DIR = os.path.join(SPAM_PATH, \"easy_ham\")\n",
    "SPAM_DIR = os.path.join(SPAM_PATH, \"spam\")\n",
    "ham_filenames = [name for name in sorted(os.listdir(HAM_DIR)) if len(name) > 20]\n",
    "spam_filenames = [name for name in sorted(os.listdir(SPAM_DIR)) if len(name) > 20]"
   ]
  },
  {
   "cell_type": "code",
   "execution_count": 6,
   "metadata": {},
   "outputs": [
    {
     "data": {
      "text/plain": [
       "2500"
      ]
     },
     "execution_count": 6,
     "metadata": {},
     "output_type": "execute_result"
    }
   ],
   "source": [
    "len(ham_filenames)"
   ]
  },
  {
   "cell_type": "code",
   "execution_count": 7,
   "metadata": {},
   "outputs": [
    {
     "data": {
      "text/plain": [
       "500"
      ]
     },
     "execution_count": 7,
     "metadata": {},
     "output_type": "execute_result"
    }
   ],
   "source": [
    "len(spam_filenames)"
   ]
  },
  {
   "cell_type": "markdown",
   "metadata": {},
   "source": [
    "## 2. Parsing the data\n",
    "\n",
    "We can use python's email modules to parse these emails."
   ]
  },
  {
   "cell_type": "code",
   "execution_count": 8,
   "metadata": {},
   "outputs": [],
   "source": [
    "import email\n",
    "import email.parser\n",
    "import email.policy\n",
    "\n",
    "def load_email(is_spam, filename, spam_path=SPAM_PATH):\n",
    "    directory = \"spam\" if is_spam else \"easy_ham\"\n",
    "    with open(os.path.join(spam_path, directory, filename), \"rb\") as f:\n",
    "        return email.parser.BytesParser(policy=email.policy.default).parse(f)"
   ]
  },
  {
   "cell_type": "code",
   "execution_count": 9,
   "metadata": {},
   "outputs": [],
   "source": [
    "ham_emails = [load_email(is_spam=False, filename=name) for name in ham_filenames]\n",
    "spam_emails = [load_email(is_spam=True, filename=name) for name in spam_filenames]"
   ]
  },
  {
   "cell_type": "code",
   "execution_count": 10,
   "metadata": {},
   "outputs": [
    {
     "name": "stdout",
     "output_type": "stream",
     "text": [
      "Martin A posted:\n",
      "Tassos Papadopoulos, the Greek sculptor behind the plan, judged that the\n",
      " limestone of Mount Kerdylio, 70 miles east of Salonika and not far from the\n",
      " Mount Athos monastic community, was ideal for the patriotic sculpture. \n",
      " \n",
      " As well as Alexander's granite features, 240 ft high and 170 ft wide, a\n",
      " museum, a restored amphitheatre and car park for admiring crowds are\n",
      "planned\n",
      "---------------------\n",
      "So is this mountain limestone or granite?\n",
      "If it's limestone, it'll weather pretty fast.\n",
      "\n",
      "------------------------ Yahoo! Groups Sponsor ---------------------~-->\n",
      "4 DVDs Free +s&p Join Now\n",
      "http://us.click.yahoo.com/pt6YBB/NXiEAA/mG3HAA/7gSolB/TM\n",
      "---------------------------------------------------------------------~->\n",
      "\n",
      "To unsubscribe from this group, send an email to:\n",
      "forteana-unsubscribe@egroups.com\n",
      "\n",
      " \n",
      "\n",
      "Your use of Yahoo! Groups is subject to http://docs.yahoo.com/info/terms/\n"
     ]
    }
   ],
   "source": [
    "print(ham_emails[1].get_content().strip())"
   ]
  },
  {
   "cell_type": "code",
   "execution_count": 11,
   "metadata": {},
   "outputs": [
    {
     "name": "stdout",
     "output_type": "stream",
     "text": [
      "1) Fight The Risk of Cancer!\n",
      "http://www.adclick.ws/p.cfm?o=315&s=pk007\n",
      "\n",
      "2) Slim Down - Guaranteed to lose 10-12 lbs in 30 days\n",
      "http://www.adclick.ws/p.cfm?o=249&s=pk007\n",
      "\n",
      "3) Get the Child Support You Deserve - Free Legal Advice\n",
      "http://www.adclick.ws/p.cfm?o=245&s=pk002\n",
      "\n",
      "4) Join the Web's Fastest Growing Singles Community\n",
      "http://www.adclick.ws/p.cfm?o=259&s=pk007\n",
      "\n",
      "5) Start Your Private Photo Album Online!\n",
      "http://www.adclick.ws/p.cfm?o=283&s=pk007\n",
      "\n",
      "Have a Wonderful Day,\n",
      "Offer Manager\n",
      "PrizeMama\n",
      "\n",
      "\n",
      "\n",
      "\n",
      "\n",
      "\n",
      "\n",
      "\n",
      "\n",
      "\n",
      "\n",
      "\n",
      "\n",
      "If you wish to leave this list please use the link below.\n",
      "http://www.qves.com/trim/?ilug@linux.ie%7C17%7C114258\n",
      "\n",
      "\n",
      "-- \n",
      "Irish Linux Users' Group: ilug@linux.ie\n",
      "http://www.linux.ie/mailman/listinfo/ilug for (un)subscription information.\n",
      "List maintainer: listmaster@linux.ie\n"
     ]
    }
   ],
   "source": [
    "print(spam_emails[1].get_content().strip())\n"
   ]
  },
  {
   "cell_type": "code",
   "execution_count": 12,
   "metadata": {},
   "outputs": [
    {
     "name": "stdout",
     "output_type": "stream",
     "text": [
      "<html>\n",
      "<head>\n",
      "<title>ReliaQuote - Save Up To 70% On Life Insurance</title>\n",
      "<meta http-equiv=\"Content-Type\" content=\"text/html; charset=iso-8859-1\">\n",
      "</head>\n",
      "<body leftmargin=\"0\" topmargin=\"0\" link=\"#FFCC99\" vlink=\"#FFCC99\" alink=\"#FFCC00\">\n",
      "<table align=\"center\" width=\"468\" border=\"0\" cellspacing=\"0\" cellpadding=\"0\" height=\"500\" bgcolor=\"993366\">\n",
      "  <tr>\n",
      "    <td align=\"left\" valign=\"top\" height=\"43\" width=\"56%\">\n",
      "      <table width=\"100%\" border=\"0\" cellspacing=\"0\" cellpadding=\"3\">\n",
      "        <tr>\n",
      "          <td><a href=\"http://theadmanager.com/server/c.asp?ad_key=YUESBHWAKMLK&ext=1\" target=\"_blank\"><img src=\"http://www.reliaquote.com/banner/bannerads/images/logo6.gif\" width=\"120\" height=\"32\" border=\"0\"></a></td>\n",
      "        </tr>\n",
      "      </table>\n",
      "    </td>\n",
      "    <td align=\"left\" valign=\"top\" height=\"43\" width=\"44%\">&nbsp;</td>\n",
      "  </tr>\n",
      "  <tr>\n",
      "    <td align=\"left\" valign=\"top\" width=\"56%\" height=\"377\">\n",
      "      <table width=\"100%\" border=\"0\" cellspacing=\"0\" cellpadding=\"0\">\n",
      "        <tr align=\"right\" valign=\"top\" bgcolor=\"#FFCCFF\">\n",
      "          <td height=\"2\"><img src=\"http://www.reliaquote.com/banner/bannerads/images/headline6.gif\" width=\"220\" height=\"72\"></td>\n",
      "        </tr>\n",
      "        <tr align=\"center\" valign=\"top\" bgcolor=\"336699\">\n",
      "          <td height=\"2\">\n",
      "            <table width=\"100%\" border=\"0\" cellspacing=\"0\" cellpadding=\"0\">\n",
      "              <tr align=\"center\" valign=\"top\">\n",
      "                <td height=\"32\">\n",
      "                  <table width=\"100%\" border=\"0\" cellspacing=\"0\" cellpadding=\"0\">\n",
      "                    <tr align=\"left\" valign=\"top\">\n",
      "                      <td height=\"34\">\n",
      "                        <table width=\"100%\" border=\"0\" cellspacing=\"8\" cellpadding=\"0\" bgcolor=\"#993366\">\n",
      "                          <tr align=\"center\" valign=\"top\">\n",
      "                            <td height=\"45\">\n",
      "                              <p><font color=\"#FFCC00\" face=\"Tahoma, Verdana, Arial\" size=\"2\"><b>Life\n",
      "                                can change in an instant. That's why it is so\n",
      "                                important to protect your family's financial future\n",
      "                                with sufficient life insurance coverage.</b></font></p>\n",
      "                            </td>\n",
      "                          </tr>\n",
      "                        </table>\n",
      "                      </td>\n",
      "                    </tr>\n",
      "                  </table>\n",
      "                </td>\n",
      "              </tr>\n",
      "            </table>\n",
      "          </td>\n",
      "        </tr>\n",
      "        <tr bgcolor=\"#FFCC00\" align=\"center\" valign=\"middle\">\n",
      "          <td height=\"27\"><font size=\"1\"><b><img src=\"http://www.reliaquote.com/banner/bannerads/images/freequotes6.gif\" width=\"177\" height=\"24\"></b></font></td>\n",
      "        </tr>\n",
      "        <tr align=\"left\" valign=\"top\" bgcolor=\"#3366CC\">\n",
      "          <td height=\"294\">\n",
      "            <form name=FreeQuoteForm ACTION=\"http://www.reliaquote.com/termlife/cgi-bin/banner_quote_resp.asp\" METHOD=\"get\">\n",
      " <input type=hidden value=51100004022000000321 name=sourceid>\n",
      "              <table class=hptbcolor cellspacing=0 cellpadding=2 width=\"100%\"\n",
      "        border=0>\n",
      "                <tbody>\n",
      "                <tr>\n",
      "                  <td width=\"100%\">\n",
      "                    <table cellspacing=4 cellpadding=0 width=\"100%\" border=0>\n",
      "                      <tbody>\n",
      "                      <tr>\n",
      "                        <td class=content width=\"35%\"><font size=\"1\" face=\"Tahoma, Verdana, Arial\" color=\"#FFFFFF\"><strong>State\n",
      "                          of Residence:</strong></font></td>\n",
      "                        <td class=content width=\"65%\" align=\"left\" valign=\"middle\">\n",
      "                          <font face=\"Tahoma, Verdana, Arial\">\n",
      "                          <select id=FormsComboBox12\n",
      "                  size=1 name=state>\n",
      "                            <option value=\"\" selected>Select State</option>\n",
      "                            <option value=Alabama>Alabama</option>\n",
      "                            <option value=Alaska>Alaska</option>\n",
      "                            <option\n",
      "                    value=Arizona>Arizona</option>\n",
      "                            <option\n",
      "                    value=Arkansas>Arkansas</option>\n",
      "                            <option\n",
      "                    value=California>California</option>\n",
      "                            <option\n",
      "                    value=Colorado>Colorado</option>\n",
      "                            <option\n",
      "                    value=Connecticut>Connecticut</option>\n",
      "                            <option\n",
      "                    value=Delaware>Delaware</option>\n",
      "                            <option value=DC>Dist. of Columbia</option>\n",
      "                            <option value=Florida>Florida</option>\n",
      "                            <option value=Georgia>Georgia</option>\n",
      "                            <option\n",
      "                    value=Hawaii>Hawaii</option>\n",
      "                            <option\n",
      "                    value=Idaho>Idaho</option>\n",
      "                            <option\n",
      "                    value=Illinois>Illinois</option>\n",
      "                            <option\n",
      "                    value=Indiana>Indiana</option>\n",
      "                            <option\n",
      "                    value=Iowa>Iowa</option>\n",
      "                            <option\n",
      "                    value=Kansas>Kansas</option>\n",
      "                            <option\n",
      "                    value=Kentucky>Kentucky</option>\n",
      "                            <option\n",
      "                    value=Louisiana>Louisiana</option>\n",
      "                            <option\n",
      "                    value=Maine>Maine</option>\n",
      "                            <option\n",
      "                    value=Maryland>Maryland</option>\n",
      "                            <option\n",
      "                    value=Massachusetts>Massachusetts</option>\n",
      "                            <option\n",
      "                    value=Michigan>Michigan</option>\n",
      "                            <option\n",
      "                    value=Minnesota>Minnesota</option>\n",
      "                            <option\n",
      "                    value=Mississippi>Mississippi</option>\n",
      "                            <option\n",
      "                    value=Missouri>Missouri</option>\n",
      "                            <option\n",
      "                    value=Montana>Montana</option>\n",
      "                            <option\n",
      "                    value=Nebraska>Nebraska</option>\n",
      "                            <option\n",
      "                    value=Nevada>Nevada</option>\n",
      "                            <option\n",
      "                    value=\"New Hampshire\">New Hampshire</option>\n",
      "                            <option\n",
      "                    value=\"New Jersey\">New Jersey</option>\n",
      "                            <option\n",
      "                    value=\"New Mexico\">New Mexico</option>\n",
      "                            <option\n",
      "                    value=\"New York\">New York</option>\n",
      "                            <option\n",
      "                    value=\"North Carolina\">North Carolina</option>\n",
      "                            <option\n",
      "                    value=\"North Dakota\">North Dakota</option>\n",
      "                            <option\n",
      "                    value=Ohio>Ohio</option>\n",
      "                            <option\n",
      "                    value=Oklahoma>Oklahoma</option>\n",
      "                            <option\n",
      "                    value=Oregon>Oregon</option>\n",
      "                            <option\n",
      "                    value=Pennsylvania>Pennsylvania</option>\n",
      "                            <option\n",
      "                    value=\"Rhode Island\">Rhode Island</option>\n",
      "                            <option\n",
      "                    value=\"South Carolina\">South Carolina</option>\n",
      "                            <option\n",
      "                    value=\"South Dakota\">South Dakota</option>\n",
      "                            <option\n",
      "                    value=Tennessee>Tennessee</option>\n",
      "                            <option\n",
      "                    value=Texas>Texas</option>\n",
      "                            <option value=Utah>Utah</option>\n",
      "                            <option value=Vermont>Vermont</option>\n",
      "                            <option\n",
      "                    value=Virginia>Virginia</option>\n",
      "                            <option\n",
      "                    value=Washington>Washington</option>\n",
      "                            <option\n",
      "                    value=\"West Virginia\">West Virginia</option>\n",
      "                            <option\n",
      "                    value=Wisconsin>Wisconsin</option>\n",
      "                            <option\n",
      "                    value=Wyoming>Wyoming</option>\n",
      "                          </select>\n",
      "                          </font></td>\n",
      "                      </tr>\n",
      "                      <tr>\n",
      "                        <td class=content width=\"35%\"><font size=\"1\" face=\"Tahoma, Verdana, Arial\" color=\"#FFFFFF\"><strong>Date\n",
      "                          of Birth (MM/DD/YY):</strong></font></td>\n",
      "                        <td noWrap width=\"65%\" align=\"left\" valign=\"middle\"> <font face=\"Tahoma, Verdana, Arial\">\n",
      "                          <select size=1 name=MM>\n",
      "                            <option\n",
      "                    value=\"\" selected>MM</option>\n",
      "                            <option value=01>01</option>\n",
      "                            <option value=02>02</option>\n",
      "                            <option value=03>03</option>\n",
      "                            <option value=04>04</option>\n",
      "                            <option value=05>05</option>\n",
      "                            <option value=06>06</option>\n",
      "                            <option value=07>07</option>\n",
      "                            <option value=08>08</option>\n",
      "                            <option value=09>09</option>\n",
      "                            <option value=10>10</option>\n",
      "                            <option value=11>11</option>\n",
      "                            <option value=12>12</option>\n",
      "                          </select>\n",
      "                          /\n",
      "                          <select size=1 name=DD>\n",
      "                            <option value=\"\" selected>DD</option>\n",
      "                            <option\n",
      "                    value=01>01</option>\n",
      "                            <option value=02>02</option>\n",
      "                            <option\n",
      "                    value=03>03</option>\n",
      "                            <option value=04>04</option>\n",
      "                            <option\n",
      "                    value=05>05</option>\n",
      "                            <option value=06>06</option>\n",
      "                            <option\n",
      "                    value=07>07</option>\n",
      "                            <option value=08>08</option>\n",
      "                            <option\n",
      "                    value=09>09</option>\n",
      "                            <option value=10>10</option>\n",
      "                            <option\n",
      "                    value=11>11</option>\n",
      "                            <option value=12>12</option>\n",
      "                            <option\n",
      "                    value=13>13</option>\n",
      "                            <option value=14>14</option>\n",
      "                            <option\n",
      "                    value=15>15</option>\n",
      "                            <option value=16>16</option>\n",
      "                            <option\n",
      "                    value=17>17</option>\n",
      "                            <option value=18>18</option>\n",
      "                            <option\n",
      "                    value=19>19</option>\n",
      "                            <option value=20>20</option>\n",
      "                            <option\n",
      "                    value=21>21</option>\n",
      "                            <option value=22>22</option>\n",
      "                            <option\n",
      "                    value=23>23</option>\n",
      "                            <option value=24>24</option>\n",
      "                            <option\n",
      "                    value=25>25</option>\n",
      "                            <option value=26>26</option>\n",
      "                            <option\n",
      "                    value=27>27</option>\n",
      "                            <option value=28>28</option>\n",
      "                            <option\n",
      "                    value=29>29</option>\n",
      "                            <option value=30>30</option>\n",
      "                            <option\n",
      "                    value=31>31</option>\n",
      "                          </select>\n",
      "                          /\n",
      "                          <select size=1 name=YY>\n",
      "                            <option value=\"\" selected>YY</option>\n",
      "                            <option\n",
      "                    value=13>13</option>\n",
      "                            <option value=14>14</option>\n",
      "                            <option\n",
      "                    value=15>15</option>\n",
      "                            <option value=16>16</option>\n",
      "                            <option\n",
      "                    value=17>17</option>\n",
      "                            <option value=18>18</option>\n",
      "                            <option\n",
      "                    value=19>19</option>\n",
      "                            <option value=20>20</option>\n",
      "                            <option\n",
      "                    value=21>21</option>\n",
      "                            <option value=22>22</option>\n",
      "                            <option\n",
      "                    value=23>23</option>\n",
      "                            <option value=24>24</option>\n",
      "                            <option\n",
      "                    value=25>25</option>\n",
      "                            <option value=26>26</option>\n",
      "                            <option\n",
      "                    value=27>27</option>\n",
      "                            <option value=28>28</option>\n",
      "                            <option\n",
      "                    value=29>29</option>\n",
      "                            <option value=30>30</option>\n",
      "                            <option\n",
      "                    value=31>31</option>\n",
      "                            <option value=32>32</option>\n",
      "                            <option\n",
      "                    value=33>33</option>\n",
      "                            <option value=34>34</option>\n",
      "                            <option\n",
      "                    value=35>35</option>\n",
      "                            <option value=36>36</option>\n",
      "                            <option\n",
      "                    value=37>37</option>\n",
      "                            <option value=38>38</option>\n",
      "                            <option\n",
      "                    value=39>39</option>\n",
      "                            <option value=40>40</option>\n",
      "                            <option\n",
      "                    value=41>41</option>\n",
      "                            <option value=42>42</option>\n",
      "                            <option\n",
      "                    value=43>43</option>\n",
      "                            <option value=44>44</option>\n",
      "                            <option\n",
      "                    value=45>45</option>\n",
      "                            <option value=46>46</option>\n",
      "                            <option\n",
      "                    value=47>47</option>\n",
      "                            <option value=48>48</option>\n",
      "                            <option\n",
      "                    value=49>49</option>\n",
      "                            <option value=50>50</option>\n",
      "                            <option\n",
      "                    value=51>51</option>\n",
      "                            <option value=52>52</option>\n",
      "                            <option\n",
      "                    value=53>53</option>\n",
      "                            <option value=54>54</option>\n",
      "                            <option\n",
      "                    value=55>55</option>\n",
      "                            <option value=56>56</option>\n",
      "                            <option\n",
      "                    value=57>57</option>\n",
      "                            <option value=58>58</option>\n",
      "                            <option\n",
      "                    value=59>59</option>\n",
      "                            <option value=60>60</option>\n",
      "                            <option\n",
      "                    value=61>61</option>\n",
      "                            <option value=62>62</option>\n",
      "                            <option\n",
      "                    value=63>63</option>\n",
      "                            <option value=64>64</option>\n",
      "                            <option\n",
      "                    value=65>65</option>\n",
      "                            <option value=66>66</option>\n",
      "                            <option\n",
      "                    value=67>67</option>\n",
      "                            <option value=68>68</option>\n",
      "                            <option\n",
      "                    value=69>69</option>\n",
      "                            <option value=70>70</option>\n",
      "                            <option\n",
      "                    value=71>71</option>\n",
      "                            <option value=72>72</option>\n",
      "                            <option\n",
      "                    value=73>73</option>\n",
      "                            <option value=74>74</option>\n",
      "                            <option\n",
      "                    value=75>75</option>\n",
      "                            <option value=76>76</option>\n",
      "                            <option\n",
      "                    value=77>77</option>\n",
      "                            <option value=78>78</option>\n",
      "                            <option\n",
      "                    value=79>79</option>\n",
      "                            <option value=80>80</option>\n",
      "                            <option\n",
      "                    value=81>81</option>\n",
      "                            <option value=82>82</option>\n",
      "                            <option\n",
      "                    value=83>83</option>\n",
      "                                          <option\n",
      "                    value=84>84</option>\n",
      "                          </select>\n",
      "                          </font></td>\n",
      "                      </tr>\n",
      "                      <tr>\n",
      "                        <td class=content width=\"35%\"><font size=\"1\" face=\"Tahoma, Verdana, Arial\" color=\"#FFFFFF\"><strong>Sex:</strong></font></td>\n",
      "                        <td noWrap width=\"65%\" align=\"left\" valign=\"middle\">\n",
      "                          <table cellspacing=0 width=\"100%\" border=0>\n",
      "                            <tbody>\n",
      "                            <tr>\n",
      "                              <td width=\"50%\"> <font color=\"#FFFFFF\" size=\"1\" face=\"Tahoma, Verdana, Arial\"><b>\n",
      "                                <input id=FormsRadioButton1 type=radio\n",
      "                        value=M name=Sex>\n",
      "                                Male</b></font></td>\n",
      "                              <td width=\"50%\"> <font color=\"#FFFFFF\" size=\"1\" face=\"Tahoma, Verdana, Arial\"><b>\n",
      "                                <input id=FormsRadioButton2 type=radio\n",
      "                        value=F name=Sex>\n",
      "                                Female</b></font></td>\n",
      "                            </tr>\n",
      "                            </tbody>\n",
      "                          </table>\n",
      "                        </td>\n",
      "                      </tr>\n",
      "                      <tr>\n",
      "                        <td class=content width=\"35%\"><font size=\"1\" face=\"Tahoma, Verdana, Arial\" color=\"#FFFFFF\"><strong>Have\n",
      "                          you used any tobacco products in the last 12 months?</strong></font></td>\n",
      "                        <td noWrap width=\"65%\" align=\"left\" valign=\"middle\">\n",
      "                          <table cellspacing=0 width=\"100%\" border=0>\n",
      "                            <tbody>\n",
      "                            <tr>\n",
      "                              <td width=\"50%\"> <b><font size=\"1\" face=\"Tahoma, Verdana, Arial\" color=\"#FFFFFF\">\n",
      "                                <input id=FormsRadioButton4 type=radio\n",
      "                        value=N name=Tobacco>\n",
      "                                No</font></b></td>\n",
      "                              <td width=\"50%\"> <b><font size=\"1\" face=\"Tahoma, Verdana, Arial\" color=\"#FFFFFF\">\n",
      "                                <input id=FormsRadioButton3 type=radio\n",
      "                        value=Y name=Tobacco>\n",
      "                                Yes</font></b></td>\n",
      "                            </tr>\n",
      "                            </tbody>\n",
      "                          </table>\n",
      "                        </td>\n",
      "                      </tr>\n",
      "                      <tr>\n",
      "                        <td class=content width=\"35%\"><font size=\"1\" face=\"Tahoma, Verdana, Arial\" color=\"#FFFFFF\"><strong>Coverage\n",
      "                          Amount:</strong></font></td>\n",
      "                        <td class=content width=\"65%\" align=\"left\" valign=\"middle\">\n",
      "                          <font face=\"Tahoma, Verdana, Arial\">\n",
      "                          <select id=FormsComboBox11\n",
      "                  size=1 name=coverage-amount>\n",
      "                            <option value=\"\"\n",
      "                    selected>Select Amount</option>\n",
      "                            <option\n",
      "                    value=100000.00>100,000</option>\n",
      "                            <option\n",
      "                    value=125000.00>125,000</option>\n",
      "                            <option\n",
      "                    value=150000.00>150,000</option>\n",
      "                            <option\n",
      "                    value=175000.00>175,000</option>\n",
      "                            <option\n",
      "                    value=200000.00>200,000</option>\n",
      "                            <option\n",
      "                    value=225000.00>225,000</option>\n",
      "                            <option\n",
      "                    value=250000.00>250,000</option>\n",
      "                            <option\n",
      "                    value=275000.00>275,000</option>\n",
      "                            <option\n",
      "                    value=300000.00>300,000</option>\n",
      "                            <option\n",
      "                    value=325000.00>325,000</option>\n",
      "                            <option\n",
      "                    value=350000.00>350,000</option>\n",
      "                            <option\n",
      "                    value=375000.00>375,000</option>\n",
      "                            <option\n",
      "                    value=400000.00>400,000</option>\n",
      "                            <option\n",
      "                    value=425000.00>425,000</option>\n",
      "                            <option\n",
      "                    value=450000.00>450,000</option>\n",
      "                            <option\n",
      "                    value=475000.00>475,000</option>\n",
      "                            <option\n",
      "                    value=500000.00>500,000</option>\n",
      "                            <option\n",
      "                    value=550000.00>550,000</option>\n",
      "                            <option\n",
      "                    value=600000.00>600,000</option>\n",
      "                            <option\n",
      "                    value=650000.00>650,000</option>\n",
      "                            <option\n",
      "                    value=700000.00>700,000</option>\n",
      "                            <option\n",
      "                    value=750000.00>750,000</option>\n",
      "                            <option\n",
      "                    value=800000.00>800,000</option>\n",
      "                            <option\n",
      "                    value=850000.00>850,000</option>\n",
      "                            <option\n",
      "                    value=900000.00>900,000</option>\n",
      "                            <option\n",
      "                    value=950000.00>950,000</option>\n",
      "                            <option\n",
      "                    value=1000000.00>1,000,000</option>\n",
      "                            <option\n",
      "                    value=1250000.00>1,250,000</option>\n",
      "                            <option\n",
      "                    value=1500000.00>1,500,000</option>\n",
      "                            <option\n",
      "                    value=1750000.00>1,750,000</option>\n",
      "                            <option\n",
      "                    value=2000000.00>2,000,000</option>\n",
      "                            <option\n",
      "                    value=2250000.00>2,250,000</option>\n",
      "                            <option\n",
      "                    value=2500000.00>2,500,000</option>\n",
      "                            <option\n",
      "                    value=3000000.00>3,000,000</option>\n",
      "                            <option\n",
      "                    value=3500000.00>3,500,000</option>\n",
      "                            <option\n",
      "                    value=4000000.00>4,000,000</option>\n",
      "                            <option\n",
      "                    value=4500000.00>4,500,000</option>\n",
      "                            <option\n",
      "                    value=5000000.00>5,000,000</option>\n",
      "                            <option\n",
      "                    value=6000000.00>6,000,000</option>\n",
      "                            <option\n",
      "                    value=7000000.00>7,000,000</option>\n",
      "                            <option\n",
      "                    value=8000000.00>8,000,000</option>\n",
      "                            <option\n",
      "                    value=9000000.00>9,000,000</option>\n",
      "                            <option\n",
      "                    value=10000000.00>10,000,000</option>\n",
      "                            <option\n",
      "                    value=11000000.00>11,000,000</option>\n",
      "                            <option\n",
      "                    value=12000000.00>12,000,000</option>\n",
      "                            <option\n",
      "                    value=13000000.00>13,000,000</option>\n",
      "                            <option\n",
      "                    value=14000000.00>14,000,000</option>\n",
      "                            <option\n",
      "                    value=15000000.00>15,000,000</option>\n",
      "                          </select>\n",
      "                          </font></td>\n",
      "                      </tr>\n",
      "                      <tr>\n",
      "                        <td class=content width=\"35%\"><font size=\"1\" face=\"Tahoma, Verdana, Arial\" color=\"#FFFFFF\"><strong>How\n",
      "                          long do you need the coverage?</strong></font></td>\n",
      "                        <td class=content width=\"65%\" align=\"left\" valign=\"middle\">\n",
      "                          <font face=\"Tahoma, Verdana, Arial\">\n",
      "                          <select id=FormsComboBox10\n",
      "                  size=1 name=plan>\n",
      "                            <option value=\"\" selected>Select Year</option>\n",
      "                            <option value=5>5 Years</option>\n",
      "                            <option\n",
      "                    value=10>10 Years</option>\n",
      "                            <option value=15>15 Years</option>\n",
      "                            <option value=20>20 Years</option>\n",
      "                            <option\n",
      "                    value=25>25 Years</option>\n",
      "                            <option value=30>30 Years</option>\n",
      "                          </select>\n",
      "                          </font></td>\n",
      "                      </tr>\n",
      "                      <tr>\n",
      "                        <td width=\"35%\" height=\"2\">&nbsp; </td>\n",
      "                        <td class=content align=left width=\"65%\" height=\"2\" valign=\"top\">\n",
      "                          <font face=\"Tahoma, Verdana, Arial\">\n",
      "                          <input id=FormsButton1 type=submit value=\"Get A Quote\" name=SubmitButton>\n",
      "                          </font></td>\n",
      "                      </tr>\n",
      "                      </tbody>\n",
      "                    </table>\n",
      "                  </td>\n",
      "                </tr>\n",
      "                </tbody>\n",
      "              </table>\n",
      "            </form>\n",
      "\n",
      "          </td>\n",
      "        </tr>\n",
      "      </table>\n",
      "    <td align=\"left\" valign=\"top\" width=\"44%\" height=\"377\"><a href=\"http://theadmanager.com/server/c.asp?ad_key=YUESBHWAKMLK&ext=1\" target=\"_blank\"><img src=\"http://www.reliaquote.com/banner/bannerads/images/photo6.jpg\" width=\"210\" height=\"173\" border=\"0\"></a><br>\n",
      "      <table width=\"100%\" border=\"0\" cellspacing=\"0\" cellpadding=\"0\">\n",
      "        <tr align=\"center\" valign=\"top\">\n",
      "          <td height=\"217\" nowrap>\n",
      "            <table width=\"100%\" border=\"0\" cellspacing=\"0\" cellpadding=\"10\">\n",
      "              <tr align=\"left\" valign=\"top\">\n",
      "                <td height=\"40\">\n",
      "                  <div align=\"center\"><font face=\"Tahoma, Verdana, Arial\" size=\"1\" color=\"#FFFFFF\"><b>ReliaQuote\n",
      "                    makes it easy and affordable. We can instantly provide you\n",
      "                    with free quotes from highly rated insurance companies. </b></font></div>\n",
      "                </td>\n",
      "              </tr>\n",
      "            </table>\n",
      "            <table width=\"100%\" border=\"0\" cellspacing=\"0\" cellpadding=\"0\">\n",
      "              <tr align=\"left\" valign=\"top\">\n",
      "                <td height=\"106\">\n",
      "                  <table width=\"100%\" border=\"0\" cellspacing=\"0\" cellpadding=\"0\">\n",
      "                    <tr align=\"center\" valign=\"top\">\n",
      "                      <td height=\"2\"><font face=\"Tahoma, Verdana, Arial\" size=\"3\" color=\"#FFFFFF\"><b>Save\n",
      "                        up to</b></font></td>\n",
      "                    </tr>\n",
      "                    <tr align=\"center\" valign=\"top\">\n",
      "                      <td height=\"36\"><a href=\"http://theadmanager.com/server/c.asp?ad_key=YUESBHWAKMLK&ext=1\" target=\"_blank\"><img src=\"http://www.reliaquote.com/banner/bannerads/images/70percent6.gif\" width=\"131\" height=\"57\" border=\"0\"></a></td>\n",
      "                    </tr>\n",
      "                    <tr align=\"center\" valign=\"top\">\n",
      "                      <td height=\"8\"><font face=\"Tahoma, Verdana, Arial\" size=\"3\" color=\"#FFFFFF\"><b>on\n",
      "                        Life Insurance</b></font></td>\n",
      "                    </tr>\n",
      "                  </table>\n",
      "                </td>\n",
      "              </tr>\n",
      "              <tr align=\"center\" valign=\"middle\">\n",
      "                <td height=\"67\"><font color=\"#FFCC33\" size=\"3\" face=\"Tahoma, Verdana, Arial\"><b><font color=\"#FFCC99\" size=\"2\"><a href=\"http://theadmanager.com/server/c.asp?ad_key=YUESBHWAKMLK&ext=1\" target=\"_blank\">\n",
      "                  <font color=\"#FFFFFF\">Compare quotes today</font></a><font color=\"#FFFFFF\">.</font></font><font face=\"Tahoma, Verdana, Arial\" size=\"2\" color=\"#0000FF\">\n",
      "                  </font><font face=\"Tahoma, Verdana, Arial\" size=\"2\" color=\"#FFCC00\"><br>\n",
      "                  There is nothing more <br>\n",
      "                  important than protecting <br>\n",
      "                  their future.<br>\n",
      "                  </font></b></font></td>\n",
      "              </tr>\n",
      "            </table>\n",
      "          </td>\n",
      "        </tr>\n",
      "      </table>\n",
      "      <div align=\"center\"><font color=\"#FFFFFF\" size=\"1\">Copyright 2001 ReliaQuote,\n",
      "        Inc.<br>\n",
      "        All rights reserved.</font></div>\n",
      "    </td>\n",
      "  </tr>\n",
      "</table>\n",
      "<img src=\"http://admanmail.com/server/t.asp?ad_key=YUESBHWAKMLK\" width=\"1\" height=\"1\" hspace=\"0\" vspace=\"0\" border=\"0\" alt=\"T\">\n",
      "<hr size=\"1\" noshade>\n",
      "<font face=\"Arial\" size=\"1\" color=\"#000000\">\n",
      "You are receiving this mailing because you are a\n",
      "member of SendGreatOffers.com and subscribed as:JM@NETNOTEINC.COM\n",
      "To unsubscribe <a href=\"http://admanmail.com/subscription.asp?em=JM@NETNOTEINC.COM&l=SGO\">\n",
      "<font face=\"arial\" size=\"1\" color=\"#000000\">Click Here</a>\n",
      "(http://admanmail.com/subscription.asp?em=JM@NETNOTEINC.COM&l=SGO)\n",
      "or reply to this email with REMOVE in the subject line - you must\n",
      "also include the body of this message to be unsubscribed. Any correspondence about\n",
      "the products/services should be directed to\n",
      "the company in the ad.\n",
      "%EM%JM@NETNOTEINC.COM%/EM%\n",
      "<BR></FONT> </body> </html>\n"
     ]
    }
   ],
   "source": [
    "print(spam_emails[7].get_content().strip())"
   ]
  },
  {
   "cell_type": "markdown",
   "metadata": {},
   "source": [
    "Some emails are multi part and contain images, attachments (with their own attachments), html and other structures. We can use the email library to extract these structures."
   ]
  },
  {
   "cell_type": "code",
   "execution_count": 13,
   "metadata": {},
   "outputs": [],
   "source": [
    "def get_email_structure(email):\n",
    "    if isinstance(email, str):\n",
    "        return email\n",
    "    payload = email.get_payload()\n",
    "    if isinstance(payload, list):\n",
    "        return \"multipart({})\".format(\", \".join([\n",
    "            get_email_structure(sub_email)\n",
    "            for sub_email in payload\n",
    "        ]))\n",
    "    else:\n",
    "        return email.get_content_type()"
   ]
  },
  {
   "cell_type": "code",
   "execution_count": 14,
   "metadata": {},
   "outputs": [],
   "source": [
    "from collections import Counter\n",
    "\n",
    "def structures_counter(emails):\n",
    "    structures = Counter()\n",
    "    for email in emails:\n",
    "        structure = get_email_structure(email)\n",
    "        structures[structure] += 1\n",
    "    return structures\n"
   ]
  },
  {
   "cell_type": "code",
   "execution_count": 15,
   "metadata": {},
   "outputs": [
    {
     "data": {
      "text/plain": [
       "[('text/plain', 2408),\n",
       " ('multipart(text/plain, application/pgp-signature)', 66),\n",
       " ('multipart(text/plain, text/html)', 8),\n",
       " ('multipart(text/plain, text/plain)', 4),\n",
       " ('multipart(text/plain)', 3),\n",
       " ('multipart(text/plain, application/octet-stream)', 2),\n",
       " ('multipart(text/plain, text/enriched)', 1),\n",
       " ('multipart(text/plain, application/ms-tnef, text/plain)', 1),\n",
       " ('multipart(multipart(text/plain, text/plain, text/plain), application/pgp-signature)',\n",
       "  1),\n",
       " ('multipart(text/plain, video/mng)', 1),\n",
       " ('multipart(text/plain, multipart(text/plain))', 1),\n",
       " ('multipart(text/plain, application/x-pkcs7-signature)', 1),\n",
       " ('multipart(text/plain, multipart(text/plain, text/plain), text/rfc822-headers)',\n",
       "  1),\n",
       " ('multipart(text/plain, multipart(text/plain, text/plain), multipart(multipart(text/plain, application/x-pkcs7-signature)))',\n",
       "  1),\n",
       " ('multipart(text/plain, application/x-java-applet)', 1)]"
      ]
     },
     "execution_count": 15,
     "metadata": {},
     "output_type": "execute_result"
    }
   ],
   "source": [
    "structures_counter(ham_emails).most_common()"
   ]
  },
  {
   "cell_type": "code",
   "execution_count": 16,
   "metadata": {},
   "outputs": [
    {
     "data": {
      "text/plain": [
       "[('text/plain', 218),\n",
       " ('text/html', 183),\n",
       " ('multipart(text/plain, text/html)', 45),\n",
       " ('multipart(text/html)', 20),\n",
       " ('multipart(text/plain)', 19),\n",
       " ('multipart(multipart(text/html))', 5),\n",
       " ('multipart(text/plain, image/jpeg)', 3),\n",
       " ('multipart(text/html, application/octet-stream)', 2),\n",
       " ('multipart(text/plain, application/octet-stream)', 1),\n",
       " ('multipart(text/html, text/plain)', 1),\n",
       " ('multipart(multipart(text/html), application/octet-stream, image/jpeg)', 1),\n",
       " ('multipart(multipart(text/plain, text/html), image/gif)', 1),\n",
       " ('multipart/alternative', 1)]"
      ]
     },
     "execution_count": 16,
     "metadata": {},
     "output_type": "execute_result"
    }
   ],
   "source": [
    "structures_counter(spam_emails).most_common()"
   ]
  },
  {
   "cell_type": "markdown",
   "metadata": {},
   "source": [
    "We will want to parse the html into plain text. Lets do this using regex. We will remove the head of html entirely, replace all \\<a\\> tags with the word HYPERLINK and then remove all remaining html tags but retain their text content. "
   ]
  },
  {
   "cell_type": "code",
   "execution_count": 5,
   "metadata": {},
   "outputs": [],
   "source": [
    "import re\n",
    "from html import unescape\n",
    "\n",
    "def html_to_plain_text(html):\n",
    "    text = re.sub(\"<head.*?>.*?</head>\", \"\", html, flags=re.M | re.S | re.I)\n",
    "    text = re.sub(\"<a\\s.*?>\", \" HYPERLINK \", text, flags=re.M | re.S | re.I)\n",
    "    text = re.sub(\"<.*?>\", \"\", text, flags=re.M | re.S)\n",
    "    text = re.sub(r\"(\\s*\\n)+\", \"\\n\", text, flags=re.M | re.S)\n",
    "    return unescape(text)"
   ]
  },
  {
   "cell_type": "markdown",
   "metadata": {},
   "source": [
    "Okay now we can write a function that converts an email to plain text whatever the format is."
   ]
  },
  {
   "cell_type": "code",
   "execution_count": 18,
   "metadata": {},
   "outputs": [],
   "source": [
    "def email_to_text(email):\n",
    "    html = None\n",
    "    for part in email.walk():\n",
    "        ctype = part.get_content_type()\n",
    "        if not ctype in ('text/plain', 'text/html'):\n",
    "            continue\n",
    "        try:\n",
    "            content = part.get_content()\n",
    "        except:\n",
    "            content = str(part.get_payload())\n",
    "        if ctype == 'text/plain':\n",
    "            return content\n",
    "        else:\n",
    "            html = content\n",
    "        if html:\n",
    "            return html_to_plain_text(html)"
   ]
  },
  {
   "cell_type": "markdown",
   "metadata": {},
   "source": [
    "Now lets use the functionality we have built and some extra functionality provided by nltk and urlextract to build a tranformer class for our pipeline"
   ]
  },
  {
   "cell_type": "code",
   "execution_count": 19,
   "metadata": {},
   "outputs": [],
   "source": [
    "from sklearn.base import BaseEstimator, TransformerMixin\n",
    "import numpy as np\n",
    "from nltk import PorterStemmer\n",
    "from urlextract import URLExtract\n",
    "urlextractor = URLExtract()\n",
    "stemmer = PorterStemmer()\n",
    "\n",
    "\n",
    "class EmailToWordCounterTransformer(BaseEstimator, TransformerMixin):\n",
    "    def __init__(self, strip_headers=True, lower_case=True, remove_punctuation=True,\n",
    "                 replace_urls=True, replace_numbers=True, stemming=True):\n",
    "        \n",
    "        self.strip_headers = strip_headers\n",
    "        self.lower_case = lower_case\n",
    "        self.remove_punctuation = remove_punctuation\n",
    "        self.replace_urls = replace_urls\n",
    "        self.replace_numbers = replace_numbers\n",
    "        self.stemming = stemming\n",
    "\n",
    "    def fit(self, X, y=None):\n",
    "        return self\n",
    "    \n",
    "    def transform(self, X, y=None):\n",
    "        X_transformed = []\n",
    "        for email in X:\n",
    "            text = email_to_text(email) or \"\"\n",
    "            \n",
    "            if self.lower_case:\n",
    "                text = text.lower()\n",
    "            \n",
    "            if self.replace_urls:\n",
    "                urls = list(set(urlextractor.find_urls(text)))\n",
    "                for url in urls:\n",
    "                    text.replace(url, \" URL \")\n",
    "            \n",
    "            if self.replace_numbers:\n",
    "                text = re.sub(r'\\d+(?:\\.\\d*)?(?:[eE][+-]?\\d+)?', 'NUMBER', text)\n",
    "            \n",
    "            if self.remove_punctuation:\n",
    "                text = re.sub(r'\\W+', ' ', text, flags=re.M)\n",
    "\n",
    "            \n",
    "            word_counts = Counter(text.split())\n",
    "            if self.stemming:\n",
    "                stemmed_word_counts = Counter()\n",
    "                for word, count in word_counts.items():\n",
    "                    stemmed_word = stemmer.stem(word)\n",
    "                    stemmed_word_counts[stemmed_word] += count\n",
    "                \n",
    "                word_counts = stemmed_word_counts\n",
    "\n",
    "            X_transformed.append(word_counts)\n",
    "        return np.array(X_transformed)\n"
   ]
  },
  {
   "cell_type": "code",
   "execution_count": 20,
   "metadata": {},
   "outputs": [
    {
     "data": {
      "text/plain": [
       "array([Counter({'number': 39, 'the': 15, 'pick': 9, 'lbrace': 6, 'rbrace': 6, 'i': 5, 'of': 5, 'list': 5, 'from': 4, 'com': 4, 'is': 4, 'sequenc': 4, 'hit': 4, 'thi': 3, 'inbox': 3, 'subject': 3, 'ftp': 3, 'mercuri': 3, 'command': 3, 'delta': 3, 'that': 3, 'version': 3, 'exmh': 3, 'worker': 3, 'date': 2, 'deepeddi': 2, 't': 2, 'error': 2, 'exec': 2, 's': 2, 'come': 2, 'nmh': 2, 'use': 2, 'on': 2, 'and': 2, 'mh_profil': 2, 'one': 2, 'redhat': 2, 'wed': 1, 'aug': 1, 'chri': 1, 'garrigu': 1, 'cwg': 1, 'numberfanumberd': 1, 'messag': 1, 'id': 1, 'tmda': 1, 'vircio': 1, 'can': 1, 'reproduc': 1, 'for': 1, 'me': 1, 'it': 1, 'veri': 1, 'repeat': 1, 'like': 1, 'everi': 1, 'time': 1, 'without': 1, 'fail': 1, 'debug': 1, 'log': 1, 'happen': 1, 'pick_it': 1, 'ftoc_pickmsg': 1, 'mark': 1, 'tkerror': 1, 'syntax': 1, 'in': 1, 'express': 1, 'int': 1, 'note': 1, 'if': 1, 'run': 1, 'by': 1, 'hand': 1, 'where': 1, 'obvious': 1, 'm': 1, 'compil': 1, 'fuchsia': 1, 'cs': 1, 'mu': 1, 'oz': 1, 'au': 1, 'at': 1, 'sun': 1, 'mar': 1, 'ict': 1, 'relev': 1, 'part': 1, 'my': 1, 'mhparam': 1, 'seq': 1, 'sel': 1, 'sinc': 1, 'work': 1, 'actual': 1, 'both': 1, 'them': 1, 'explicit': 1, 'line': 1, 'search': 1, 'popup': 1, 'do': 1, 'get': 1, 'creat': 1, 'kre': 1, 'ps': 1, 'still': 1, 'code': 1, 'form': 1, 'a': 1, 'day': 1, 'ago': 1, 'haven': 1, 'been': 1, 'abl': 1, 'to': 1, 'reach': 1, 'cv': 1, 'repositori': 1, 'today': 1, 'local': 1, 'rout': 1, 'issu': 1, 'think': 1, '_______________________________________________': 1, 'mail': 1, 'http': 1, 'listman': 1, 'mailman': 1, 'listinfo': 1}),\n",
       "       Counter({'the': 5, 'number': 4, 'yahoo': 4, 'a': 3, 'limeston': 3, 'of': 3, 'and': 3, 's': 3, 'group': 3, 'com': 3, 'to': 3, 'plan': 2, 'mount': 2, 'from': 2, 'for': 2, 'as': 2, 'granit': 2, 'ft': 2, 'is': 2, 'thi': 2, 'it': 2, 'http': 2, 'unsubscrib': 2, 'martin': 1, 'post': 1, 'tasso': 1, 'papadopoulo': 1, 'greek': 1, 'sculptor': 1, 'behind': 1, 'judg': 1, 'that': 1, 'kerdylio': 1, 'mile': 1, 'east': 1, 'salonika': 1, 'not': 1, 'far': 1, 'atho': 1, 'monast': 1, 'commun': 1, 'wa': 1, 'ideal': 1, 'patriot': 1, 'sculptur': 1, 'well': 1, 'alexand': 1, 'featur': 1, 'high': 1, 'wide': 1, 'museum': 1, 'restor': 1, 'amphitheatr': 1, 'car': 1, 'park': 1, 'admir': 1, 'crowd': 1, 'are': 1, 'so': 1, 'mountain': 1, 'or': 1, 'if': 1, 'll': 1, 'weather': 1, 'pretti': 1, 'fast': 1, 'sponsor': 1, 'dvd': 1, 'free': 1, 'p': 1, 'join': 1, 'now': 1, 'us': 1, 'click': 1, 'ptnumberybb': 1, 'nxieaa': 1, 'mgnumberhaa': 1, 'numbergsolb': 1, 'tm': 1, 'send': 1, 'an': 1, 'email': 1, 'forteana': 1, 'egroup': 1, 'your': 1, 'use': 1, 'subject': 1, 'doc': 1, 'info': 1, 'term': 1}),\n",
       "       Counter({'the': 16, 'to': 11, 'and': 10, 'man': 7, 'secur': 6, 'moscow': 5, 'number': 5, 'said': 5, 'of': 5, 'an': 4, 'with': 4, 'servic': 4, 'a': 4, 'yahoo': 4, 'explos': 3, 'in': 3, 'wa': 3, 's': 3, 'report': 3, 'polic': 3, 'build': 3, 'group': 3, 'com': 3, 'threaten': 2, 'thursday': 2, 'offic': 2, 'seiz': 2, 'who': 2, 'he': 2, 'truck': 2, 'ntv': 2, 'talk': 2, 'interfax': 2, 'itar': 2, 'tass': 2, 'news': 2, 'agenc': 2, 'one': 2, 'half': 2, 'negoti': 2, 'drove': 2, 'from': 2, 'him': 2, 'http': 2, 'unsubscrib': 2, 'august': 1, 'pm': 1, 'ap': 1, 'on': 1, 'unidentifi': 1, 'arm': 1, 'blow': 1, 'up': 1, 'hi': 1, 'front': 1, 'russia': 1, 'feder': 1, 'headquart': 1, 'televis': 1, 'automat': 1, 'rifl': 1, 'carri': 1, 'then': 1, 'got': 1, 'out': 1, 'taken': 1, 'into': 1, 'custodi': 1, 'no': 1, 'other': 1, 'detail': 1, 'were': 1, 'immedi': 1, 'avail': 1, 'had': 1, 'demand': 1, 'high': 1, 'govern': 1, 'offici': 1, 'ekho': 1, 'moskvi': 1, 'radio': 1, 'that': 1, 'want': 1, 'russian': 1, 'presid': 1, 'vladimir': 1, 'putin': 1, 'forc': 1, 'rush': 1, 'within': 1, 'block': 1, 'kremlin': 1, 'red': 1, 'squar': 1, 'bolshoi': 1, 'ballet': 1, 'surround': 1, 'claim': 1, 'have': 1, 'ton': 1, 'continu': 1, 'for': 1, 'about': 1, 'hour': 1, 'outsid': 1, 'cite': 1, 'wit': 1, 'later': 1, 'away': 1, 'under': 1, 'escort': 1, 'street': 1, 'near': 1, 'olymp': 1, 'penta': 1, 'hotel': 1, 'where': 1, 'author': 1, 'held': 1, 'further': 1, 'press': 1, 'move': 1, 'appear': 1, 'be': 1, 'attempt': 1, 'by': 1, 'get': 1, 'more': 1, 'locat': 1, 'sponsor': 1, 'dvd': 1, 'free': 1, 'p': 1, 'join': 1, 'now': 1, 'us': 1, 'click': 1, 'ptnumberybb': 1, 'nxieaa': 1, 'mgnumberhaa': 1, 'numbergsolb': 1, 'tm': 1, 'thi': 1, 'send': 1, 'email': 1, 'forteana': 1, 'egroup': 1, 'your': 1, 'use': 1, 'is': 1, 'subject': 1, 'doc': 1, 'info': 1, 'term': 1})],\n",
       "      dtype=object)"
      ]
     },
     "execution_count": 20,
     "metadata": {},
     "output_type": "execute_result"
    }
   ],
   "source": [
    "#testing the transformer\n",
    "some_word_counts = EmailToWordCounterTransformer().fit_transform(ham_emails[0:3])\n",
    "some_word_counts"
   ]
  },
  {
   "cell_type": "markdown",
   "metadata": {},
   "source": [
    "Now we count words we need to turn them into vectors. For this we build another transformer whose fit method will build the vocab (an ordered list of the most common words) and whose transform method will use the vocabularly to convert word counts to vectors."
   ]
  },
  {
   "cell_type": "code",
   "execution_count": 21,
   "metadata": {},
   "outputs": [],
   "source": [
    "from scipy.sparse import csr_matrix\n",
    "\n",
    "class WordCounterToVectorTransformer(BaseEstimator, TransformerMixin):\n",
    "\n",
    "    def __init__(self, vocabulary_size=100):\n",
    "        self.vocabulary_size = vocabulary_size\n",
    "\n",
    "    def fit(self, X, y=None):\n",
    "        total_count = Counter()\n",
    "        for word_count in X:\n",
    "            for word, count in word_count.items():\n",
    "                total_count[word] += min(count, 10)\n",
    "        \n",
    "        most_common = total_count.most_common(self.vocabulary_size)\n",
    "        self.vocabulary = {word:index + 1 for index, (word, count) in enumerate(most_common)}\n",
    "        return self\n",
    "    \n",
    "    def transform(self, X, y=None):\n",
    "        rows = []\n",
    "        cols = []\n",
    "        data = []\n",
    "        for row, word_count in enumerate(X):\n",
    "            for word, count in word_count.items():\n",
    "                rows.append(row)\n",
    "                cols.append(self.vocabulary.get(word, 0)) #words not in vocab go in column zero\n",
    "                data.append(count)\n",
    "        return csr_matrix((data, (rows, cols)), shape=(len(X), self.vocabulary_size + 1))\n"
   ]
  },
  {
   "cell_type": "code",
   "execution_count": 22,
   "metadata": {},
   "outputs": [
    {
     "data": {
      "text/plain": [
       "array([[184,  15,  39,   2,   1,   5,   4,   9,   4,   2,   1],\n",
       "       [ 99,   5,   4,   3,   3,   3,   3,   0,   2,   3,   3],\n",
       "       [212,  16,   5,  10,  11,   5,   3,   0,   2,   3,   4]])"
      ]
     },
     "execution_count": 22,
     "metadata": {},
     "output_type": "execute_result"
    }
   ],
   "source": [
    "#testing transformer\n",
    "vocab_transformer = WordCounterToVectorTransformer(vocabulary_size=10)\n",
    "some_vectors = vocab_transformer.fit_transform(some_word_counts)\n",
    "some_vectors.toarray()"
   ]
  },
  {
   "cell_type": "markdown",
   "metadata": {},
   "source": [
    "Lets prepare our training and test sets"
   ]
  },
  {
   "cell_type": "code",
   "execution_count": 23,
   "metadata": {},
   "outputs": [],
   "source": [
    "from sklearn.model_selection import train_test_split"
   ]
  },
  {
   "cell_type": "code",
   "execution_count": 24,
   "metadata": {},
   "outputs": [],
   "source": [
    "X = np.array(ham_emails + spam_emails, dtype=object)\n",
    "y = np.array([0] * len(ham_emails) + [1] * len(spam_emails))\n",
    "X_train, X_test, y_train, y_test = train_test_split(X, y, test_size=0.2, random_state=42)"
   ]
  },
  {
   "cell_type": "markdown",
   "metadata": {},
   "source": [
    "Lets build our preprocessing pipeline for emails."
   ]
  },
  {
   "cell_type": "code",
   "execution_count": 25,
   "metadata": {},
   "outputs": [],
   "source": [
    "from sklearn.pipeline import Pipeline\n",
    "\n",
    "preprocess_pipeline = Pipeline([\n",
    "    (\"email_to_word_count\", EmailToWordCounterTransformer()),\n",
    "    (\"word_count_to_vector\", WordCounterToVectorTransformer(1000))\n",
    "])"
   ]
  },
  {
   "cell_type": "code",
   "execution_count": 26,
   "metadata": {},
   "outputs": [
    {
     "data": {
      "text/plain": [
       "2400"
      ]
     },
     "execution_count": 26,
     "metadata": {},
     "output_type": "execute_result"
    }
   ],
   "source": [
    "len(X_train)"
   ]
  },
  {
   "cell_type": "code",
   "execution_count": 27,
   "metadata": {},
   "outputs": [
    {
     "data": {
      "text/plain": [
       "array([[3, 0, 0, ..., 0, 0, 0]])"
      ]
     },
     "execution_count": 27,
     "metadata": {},
     "output_type": "execute_result"
    }
   ],
   "source": [
    "X_train_transformed = preprocess_pipeline.fit_transform(X_train)\n",
    "X_train_transformed[0].toarray()"
   ]
  },
  {
   "cell_type": "code",
   "execution_count": 28,
   "metadata": {},
   "outputs": [],
   "source": [
    "from sklearn.linear_model import LogisticRegression\n",
    "from sklearn.model_selection import cross_val_score"
   ]
  },
  {
   "cell_type": "code",
   "execution_count": 29,
   "metadata": {},
   "outputs": [
    {
     "data": {
      "text/plain": [
       "(2400, 1001)"
      ]
     },
     "execution_count": 29,
     "metadata": {},
     "output_type": "execute_result"
    }
   ],
   "source": [
    "X_train_transformed.shape\n"
   ]
  },
  {
   "cell_type": "code",
   "execution_count": 30,
   "metadata": {},
   "outputs": [
    {
     "data": {
      "text/plain": [
       "((2400,), (2400,))"
      ]
     },
     "execution_count": 30,
     "metadata": {},
     "output_type": "execute_result"
    }
   ],
   "source": [
    "y_train.shape, X_train.shape"
   ]
  },
  {
   "cell_type": "code",
   "execution_count": 31,
   "metadata": {},
   "outputs": [
    {
     "name": "stdout",
     "output_type": "stream",
     "text": [
      "[CV] END ................................ score: (test=0.984) total time=   0.0s\n",
      "[CV] END ................................ score: (test=0.985) total time=   0.0s\n",
      "[CV] END ................................ score: (test=0.994) total time=   0.1s\n"
     ]
    },
    {
     "data": {
      "text/plain": [
       "0.9874999999999999"
      ]
     },
     "execution_count": 31,
     "metadata": {},
     "output_type": "execute_result"
    }
   ],
   "source": [
    "log_clf = LogisticRegression(solver='lbfgs', max_iter=1000, random_state=42)\n",
    "score = cross_val_score(log_clf, X_train_transformed, y_train, cv=3, verbose=3)\n",
    "score.mean()\n"
   ]
  },
  {
   "cell_type": "markdown",
   "metadata": {},
   "source": [
    "We will come back to train the model on more data and test out other models. For now lets fit the model look at some test statistics and export the preprocess pipeline and the model so we can deploy them"
   ]
  },
  {
   "cell_type": "code",
   "execution_count": 32,
   "metadata": {},
   "outputs": [
    {
     "name": "stdout",
     "output_type": "stream",
     "text": [
      "Precision:  0.9789473684210527\n",
      "Recall:  0.9789473684210527\n"
     ]
    }
   ],
   "source": [
    "from sklearn.metrics import precision_score, recall_score\n",
    "\n",
    "X_test_transformed = preprocess_pipeline.transform(X_test)\n",
    "\n",
    "log_clf.fit(X_train_transformed, y_train)\n",
    "\n",
    "y_pred = log_clf.predict(X_test_transformed)\n",
    "\n",
    "print('Precision: ', precision_score(y_test, y_pred))\n",
    "print('Recall: ', recall_score(y_test, y_pred))"
   ]
  },
  {
   "cell_type": "code",
   "execution_count": 33,
   "metadata": {},
   "outputs": [
    {
     "data": {
      "text/plain": [
       "['C:\\\\Users\\\\caine\\\\OneDrive\\\\Documents\\\\spam_detection_app\\\\backend\\\\app\\\\models\\\\logistic_classifier.pkl']"
      ]
     },
     "execution_count": 33,
     "metadata": {},
     "output_type": "execute_result"
    }
   ],
   "source": [
    "import joblib as jb\n",
    "\n",
    "jb.dump(preprocess_pipeline, r\"C:\\Users\\caine\\OneDrive\\Documents\\spam_detection_app\\backend\\app\\models\\preprocess_pipeline.pkl\")\n",
    "jb.dump(log_clf, r\"C:\\Users\\caine\\OneDrive\\Documents\\spam_detection_app\\backend\\app\\models\\logistic_classifier.pkl\")"
   ]
  },
  {
   "cell_type": "markdown",
   "metadata": {},
   "source": [
    "To load a pickled custom transformer, the transfomer must be imported from the file it is defined in, pickled and then when loaded also imported into the file it is loaded from - if that makes sense. Given this we will import the transformers into this notebook (rather than define them in the notebook), fit them and then pickle them from here."
   ]
  },
  {
   "cell_type": "code",
   "execution_count": 6,
   "metadata": {},
   "outputs": [],
   "source": [
    "from modelling.custom_transformers import WordCounterToVectorTransformer, EmailToWordCounterTransformer"
   ]
  },
  {
   "cell_type": "code",
   "execution_count": 35,
   "metadata": {},
   "outputs": [],
   "source": [
    "preprocess_pipeline = Pipeline([\n",
    "    (\"email_to_word_count\", EmailToWordCounterTransformer()),\n",
    "    (\"word_count_to_vector\", WordCounterToVectorTransformer(1000))\n",
    "])"
   ]
  },
  {
   "cell_type": "code",
   "execution_count": 36,
   "metadata": {},
   "outputs": [
    {
     "data": {
      "text/plain": [
       "<2400x1001 sparse matrix of type '<class 'numpy.int32'>'\n",
       "\twith 282901 stored elements in Compressed Sparse Row format>"
      ]
     },
     "execution_count": 36,
     "metadata": {},
     "output_type": "execute_result"
    }
   ],
   "source": [
    "preprocess_pipeline.fit_transform(X_train)"
   ]
  },
  {
   "cell_type": "code",
   "execution_count": 37,
   "metadata": {},
   "outputs": [
    {
     "data": {
      "text/plain": [
       "['C:\\\\Users\\\\caine\\\\OneDrive\\\\Documents\\\\spam_detection_app\\\\backend\\\\app\\\\models\\\\preprocess_pipeline.pkl']"
      ]
     },
     "execution_count": 37,
     "metadata": {},
     "output_type": "execute_result"
    }
   ],
   "source": [
    "jb.dump(preprocess_pipeline, r\"C:\\Users\\caine\\OneDrive\\Documents\\spam_detection_app\\backend\\app\\models\\preprocess_pipeline.pkl\")"
   ]
  },
  {
   "cell_type": "code",
   "execution_count": 7,
   "metadata": {},
   "outputs": [
    {
     "data": {
      "text/plain": [
       "array([Counter({'a': 2, 'cain': 1})], dtype=object)"
      ]
     },
     "execution_count": 7,
     "metadata": {},
     "output_type": "execute_result"
    }
   ],
   "source": [
    "EmailToWordCounterTransformer().transform(['<a>caine</a>'])"
   ]
  }
 ],
 "metadata": {
  "kernelspec": {
   "display_name": "spamenv",
   "language": "python",
   "name": "python3"
  },
  "language_info": {
   "codemirror_mode": {
    "name": "ipython",
    "version": 3
   },
   "file_extension": ".py",
   "mimetype": "text/x-python",
   "name": "python",
   "nbconvert_exporter": "python",
   "pygments_lexer": "ipython3",
   "version": "3.11.4"
  }
 },
 "nbformat": 4,
 "nbformat_minor": 2
}
